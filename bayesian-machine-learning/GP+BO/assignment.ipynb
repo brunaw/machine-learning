{
 "cells": [
  {
   "cell_type": "markdown",
   "metadata": {
    "colab_type": "text",
    "id": "wZ5ays2Gqmnc"
   },
   "source": [
    "# First things first\n",
    "Click **File -> Save a copy in Drive** and click **Open in new tab** in the pop-up window to save your progress in Google Drive."
   ]
  },
  {
   "cell_type": "markdown",
   "metadata": {
    "colab_type": "text",
    "id": "iHySCgOsqmnf"
   },
   "source": [
    "# Gaussian processes and Bayesian optimization"
   ]
  },
  {
   "cell_type": "markdown",
   "metadata": {
    "colab_type": "text",
    "id": "ubovSxesqmng"
   },
   "source": [
    "In this assignment you will learn how to use <a href=\"http://sheffieldml.github.io/GPy/\">GPy</a> and <a href=\"http://sheffieldml.github.io/GPyOpt/\">GPyOpt</a> libraries to deal with gaussian processes. These libraries provide quite simple and inuitive interfaces for training and inference, and we will try to get familiar with them in a few tasks."
   ]
  },
  {
   "cell_type": "markdown",
   "metadata": {
    "colab_type": "text",
    "id": "-3sthTAtqmni"
   },
   "source": [
    "### Setup\n",
    "Load auxiliary files and then install and import the necessary libraries."
   ]
  },
  {
   "cell_type": "code",
   "execution_count": null,
   "metadata": {
    "colab": {
     "base_uri": "https://localhost:8080/",
     "height": 242
    },
    "colab_type": "code",
    "id": "Glb3Hxl_qmnj",
    "outputId": "bc356c48-c456-4c59-9310-7a91574a3495"
   },
   "outputs": [],
   "source": [
    "#try:\n",
    "#    import google.colab\n",
    "#    IN_COLAB = True\n",
    "#except:\n",
    "#    IN_COLAB = False\n",
    "#if IN_COLAB:\n",
    "#    print(\"Downloading Colab files\")\n",
    "#    ! shred -u setup_google_colab.py\n",
    "#    ! wget https://raw.githubusercontent.com/hse-aml/bayesian-methods-for-ml/master/setup_google_colab.py -O setup_google_colab.py\n",
    "#    import setup_google_colab\n",
    "#    setup_google_colab.load_data_week6()"
   ]
  },
  {
   "cell_type": "code",
   "execution_count": null,
   "metadata": {
    "colab": {
     "base_uri": "https://localhost:8080/",
     "height": 504
    },
    "colab_type": "code",
    "id": "v21WWolfqmnr",
    "outputId": "938849a1-3b95-4dc7-96d9-f49b425ab9ab"
   },
   "outputs": [],
   "source": [
    "! pip install GPy gpyopt xgboost"
   ]
  },
  {
   "cell_type": "code",
   "execution_count": null,
   "metadata": {
    "colab": {},
    "colab_type": "code",
    "id": "B2n3RSzpqmnu"
   },
   "outputs": [],
   "source": [
    "import numpy as np\n",
    "import GPy\n",
    "import GPyOpt\n",
    "import matplotlib.pyplot as plt\n",
    "from sklearn.svm import SVR\n",
    "import sklearn.datasets\n",
    "from xgboost import XGBRegressor\n",
    "from sklearn.model_selection import cross_val_score\n",
    "import time\n",
    "from w6_grader import GPGrader\n",
    "%matplotlib inline"
   ]
  },
  {
   "cell_type": "markdown",
   "metadata": {
    "colab_type": "text",
    "id": "Asnzpo7Eqmny"
   },
   "source": [
    "### Grading\n",
    "We will create a grader instace below and use it to collect your answers. Note that these outputs will be stored locally inside grader and will be uploaded to platform only after running submiting function in the last part of this assignment. If you want to make partial submission, you can run that cell any time you want."
   ]
  },
  {
   "cell_type": "code",
   "execution_count": null,
   "metadata": {
    "colab": {},
    "colab_type": "code",
    "id": "fUQQLQwqqmnz"
   },
   "outputs": [],
   "source": [
    "grader = GPGrader()"
   ]
  },
  {
   "cell_type": "markdown",
   "metadata": {
    "colab_type": "text",
    "id": "PVrHbR6uqmn3"
   },
   "source": [
    "## Gaussian processes: GPy (<a href=\"http://pythonhosted.org/GPy/\">documentation</a>)"
   ]
  },
  {
   "cell_type": "markdown",
   "metadata": {
    "colab_type": "text",
    "collapsed": true,
    "id": "nBcXcDDFqmn4"
   },
   "source": [
    "We will start with a simple regression problem, for which we will try to fit a Gaussian Process with RBF kernel."
   ]
  },
  {
   "cell_type": "code",
   "execution_count": null,
   "metadata": {
    "colab": {},
    "colab_type": "code",
    "id": "HIhFItK7qmn5"
   },
   "outputs": [],
   "source": [
    "def generate_points(n=25, noise_variance=0.0036):\n",
    "    np.random.seed(777)\n",
    "    X = np.random.uniform(-3., 3., (n, 1))\n",
    "    y = np.sin(X) + np.random.randn(n, 1) * noise_variance**0.5\n",
    "    return X, y\n",
    "    \n",
    "def generate_noise(n=25, noise_variance=0.0036):\n",
    "    np.random.seed(777)\n",
    "    X = np.random.uniform(-3., 3., (n, 1))\n",
    "    y = np.random.randn(n, 1) * noise_variance**0.5\n",
    "    return X, y"
   ]
  },
  {
   "cell_type": "code",
   "execution_count": null,
   "metadata": {
    "colab": {
     "base_uri": "https://localhost:8080/",
     "height": 265
    },
    "colab_type": "code",
    "id": "vXJp0XDnqmn-",
    "outputId": "e977d586-0e86-4446-efef-218e58b348ed"
   },
   "outputs": [],
   "source": [
    "# Create data points\n",
    "X, y = generate_points()\n",
    "plt.plot(X, y, '.')\n",
    "plt.show()"
   ]
  },
  {
   "cell_type": "markdown",
   "metadata": {
    "colab_type": "text",
    "id": "6-atmqm8qmoC"
   },
   "source": [
    "To fit a Gaussian Process, you will need to define a kernel. For Gaussian (GBF) kernel you can use `GPy.kern.RBF` function."
   ]
  },
  {
   "cell_type": "markdown",
   "metadata": {
    "colab_type": "text",
    "id": "MQPqOuSSqmoE"
   },
   "source": [
    "<b> Task 1.1: </b> Create RBF kernel with variance 1.5 and length-scale parameter 2 for 1D samples and compute value of the kernel between points `X[5]` and `X[9]`. Submit a single number. \n",
    "<br><b>Hint:</b> use `.K` property of kernel object."
   ]
  },
  {
   "cell_type": "code",
   "execution_count": null,
   "metadata": {
    "colab": {
     "base_uri": "https://localhost:8080/",
     "height": 35
    },
    "colab_type": "code",
    "id": "GjVDq8h7qmoF",
    "outputId": "794b8490-abf6-414e-ee20-92762e03d1fa"
   },
   "outputs": [],
   "source": [
    "kernel = GPy.kern.RBF(input_dim = 1, variance = 1.5, lengthscale = 2) # sets the kernel configuration\n",
    "kernel_59 = kernel.K(np.array([X[5]]), np.array([X[9]]))\n",
    "kernel_59\n",
    "grader.submit_GPy_1(kernel_59)"
   ]
  },
  {
   "cell_type": "markdown",
   "metadata": {
    "colab_type": "text",
    "id": "8Qttn0584BZg"
   },
   "source": []
  },
  {
   "cell_type": "markdown",
   "metadata": {
    "colab_type": "text",
    "id": "99r5q8vdqmoH"
   },
   "source": [
    "<b> Task 1.2: </b> Fit GP into generated data. Use kernel from previous task. Submit predicted mean and variance at position $x=1$.\n",
    "<br><b>Hint:</b> use `GPy.models.GPRegression` class."
   ]
  },
  {
   "cell_type": "code",
   "execution_count": null,
   "metadata": {
    "colab": {
     "base_uri": "https://localhost:8080/",
     "height": 52
    },
    "colab_type": "code",
    "id": "22DHZq18qmoJ",
    "outputId": "b5a525e8-29a7-4c1a-8d34-1add37656d02"
   },
   "outputs": [],
   "source": [
    "model = GPy.models.GPRegression(X, y, kernel) # fits our model\n",
    "mean, variance = model.predict(np.array([[1]])) # predicts at X = 1\n",
    "grader.submit_GPy_2(mean, variance)"
   ]
  },
  {
   "cell_type": "code",
   "execution_count": null,
   "metadata": {
    "colab": {
     "base_uri": "https://localhost:8080/",
     "height": 297
    },
    "colab_type": "code",
    "id": "Mb5mphqaqmoL",
    "outputId": "5d41d954-6ac3-4d22-bddb-2078aa39eb82"
   },
   "outputs": [],
   "source": [
    "model.plot() # beautiful plots for the model but with big intervals\n",
    "plt.show()"
   ]
  },
  {
   "cell_type": "markdown",
   "metadata": {
    "colab_type": "text",
    "id": "BX_l9modqmoO"
   },
   "source": [
    "We see that the model didn't fit the data quite well. Let's try to fit kernel and noise parameters automatically as discussed in the lecture! You can see the current parameters below:"
   ]
  },
  {
   "cell_type": "code",
   "execution_count": null,
   "metadata": {
    "colab": {
     "base_uri": "https://localhost:8080/",
     "height": 222
    },
    "colab_type": "code",
    "id": "dSbuhGU8qmoP",
    "outputId": "76cd2404-1fad-4da3-e2b2-5ac75fc266fc"
   },
   "outputs": [],
   "source": [
    "model"
   ]
  },
  {
   "cell_type": "markdown",
   "metadata": {
    "colab_type": "text",
    "id": "rgEfJKYkqmoR"
   },
   "source": [
    "<b> Task 1.3: </b> Optimize length-scale, variance and noise component of the model and submit optimal length-scale value of the kernel. \n",
    "<br><b>Hint:</b> Use `.optimize()` function of the model and `.lengthscale` property of the kernel."
   ]
  },
  {
   "cell_type": "code",
   "execution_count": null,
   "metadata": {
    "colab": {
     "base_uri": "https://localhost:8080/",
     "height": 35
    },
    "colab_type": "code",
    "id": "bvXYMisCqmoS",
    "outputId": "1679ced1-6e98-4173-db1c-7f92a5620f9a"
   },
   "outputs": [],
   "source": [
    "model.optimize()\n",
    "lengthscale = kernel.lengthscale\n",
    "lengthscale\n",
    "grader.submit_GPy_3(lengthscale)"
   ]
  },
  {
   "cell_type": "code",
   "execution_count": null,
   "metadata": {
    "colab": {
     "base_uri": "https://localhost:8080/",
     "height": 297
    },
    "colab_type": "code",
    "id": "cLgx7BklqmoV",
    "outputId": "b696e040-0359-4688-a44f-987cf5fb7936"
   },
   "outputs": [],
   "source": [
    "model.plot()   # This model is clearly much better\n",
    "plt.show()"
   ]
  },
  {
   "cell_type": "markdown",
   "metadata": {
    "colab_type": "text",
    "id": "cW5TWyUcqmoY"
   },
   "source": [
    "As you see, the process generates outputs just right. Let's see if GP can figure out itself when we try to fit it into noise or signal."
   ]
  },
  {
   "cell_type": "markdown",
   "metadata": {
    "colab_type": "text",
    "id": "OnipPvWcqmoY"
   },
   "source": [
    "<b> Task 1.4: </b> Generate two datasets: sinusoid wihout noise and samples from gaussian noise. Optimize kernel parameters and submit optimal values of noise component.\n",
    "<br><b>Note:</b> generate data only using ```generate_points(n, noise_variance)``` and ```generate_noise(n, noise_variance)``` function!"
   ]
  },
  {
   "cell_type": "code",
   "execution_count": null,
   "metadata": {
    "colab": {
     "base_uri": "https://localhost:8080/",
     "height": 349
    },
    "colab_type": "code",
    "id": "SZYmfsD2qmoZ",
    "outputId": "1b3c0e68-6987-4db4-b0a7-16580d0b71df"
   },
   "outputs": [],
   "source": [
    "# 1. Noise part\n",
    "X, y = generate_noise(noise_variance = 10)\n",
    "model_noise = GPy.models.GPRegression(X, y, kernel)\n",
    "model_noise.optimize()\n",
    "noise = model_noise.Gaussian_noise[0]\n",
    "model_noise.plot()"
   ]
  },
  {
   "cell_type": "code",
   "execution_count": null,
   "metadata": {
    "colab": {
     "base_uri": "https://localhost:8080/",
     "height": 349
    },
    "colab_type": "code",
    "id": "REgS-MUFqmod",
    "outputId": "55a479e8-21fd-4477-d3df-b048e0ac9695"
   },
   "outputs": [],
   "source": [
    "X, y = generate_points(n = 50, noise_variance=0)\n",
    "model = GPy.models.GPRegression(X, y, kernel)\n",
    "model.optimize()\n",
    "signal = model.Gaussian_noise[0]\n",
    "model.plot()"
   ]
  },
  {
   "cell_type": "code",
   "execution_count": null,
   "metadata": {
    "colab": {
     "base_uri": "https://localhost:8080/",
     "height": 52
    },
    "colab_type": "code",
    "id": "X37h-6CFqmof",
    "outputId": "e49c4667-ee75-4be4-c8f3-bef1d87e1fc4"
   },
   "outputs": [],
   "source": [
    "grader.submit_GPy_4(noise, signal)"
   ]
  },
  {
   "cell_type": "markdown",
   "metadata": {
    "colab_type": "text",
    "id": "dSTy1gBNqmoi"
   },
   "source": [
    "## Sparse GP\n",
    "Now let's consider the speed of GP. We will generate a dataset of 3000 points and measure the time that is consumed for prediction of mean and variance for each point. We will then try to use inducing inputs and find the optimal number of points according to quality-time tradeoff.\n",
    "\n",
    "For the sparse model with inducing points, you should use ```GPy.models.SparseGPRegression``` class. You can set the number of inducing inputs with parameter ```num_inducing``` and optimize their positions and values with ```.optimize()``` call."
   ]
  },
  {
   "cell_type": "markdown",
   "metadata": {
    "colab_type": "text",
    "id": "L9uHwHGCqmoj"
   },
   "source": [
    "<b>Task 1.5</b>: Create a dataset of 1000 points and fit GPRegression. Measure time for predicting mean and variance at position $x=1$. Then fit `SparseGPRegression` with 10 inducing inputs and repeat the experiment. Report speedup as a ratio between consumed time without and with inducing inputs."
   ]
  },
  {
   "cell_type": "code",
   "execution_count": null,
   "metadata": {
    "colab": {},
    "colab_type": "code",
    "id": "kU8SGtr7qmom"
   },
   "outputs": [],
   "source": [
    "X, y = generate_points(n = 1000)"
   ]
  },
  {
   "cell_type": "code",
   "execution_count": null,
   "metadata": {
    "colab": {},
    "colab_type": "code",
    "id": "cstXAUytqmoo"
   },
   "outputs": [],
   "source": [
    "model = GPy.models.GPRegression(X, y, kernel)\n",
    "model.optimize()\n",
    "\n",
    "# Just the time for predicting\n",
    "start = time.time()\n",
    "model.predict(np.array([[1]]))\n",
    "time_gp = time.time() - start"
   ]
  },
  {
   "cell_type": "code",
   "execution_count": null,
   "metadata": {
    "colab": {},
    "colab_type": "code",
    "id": "4jvpv6Vnqmor"
   },
   "outputs": [],
   "source": [
    "model = GPy.models.SparseGPRegression(X, y, kernel, num_inducing= 10)\n",
    "model.optimize()\n",
    "\n",
    "# Just the time for predicting for SparseGPRegression\n",
    "start = time.time()\n",
    "model.predict(np.array([[1]]))\n",
    "time_sgp = time.time() - start"
   ]
  },
  {
   "cell_type": "code",
   "execution_count": null,
   "metadata": {
    "colab": {
     "base_uri": "https://localhost:8080/",
     "height": 297
    },
    "colab_type": "code",
    "id": "uJ3nGIM5qmou",
    "outputId": "f4738ff7-8cf9-43b2-9a7a-4e1ea27cf9e1"
   },
   "outputs": [],
   "source": [
    "model.plot()\n",
    "plt.show()"
   ]
  },
  {
   "cell_type": "code",
   "execution_count": null,
   "metadata": {
    "colab": {
     "base_uri": "https://localhost:8080/",
     "height": 35
    },
    "colab_type": "code",
    "id": "yi0bJu_xqmow",
    "outputId": "3e9c02bd-9ce6-4ec1-c601-bf9fc13c43a6"
   },
   "outputs": [],
   "source": [
    "grader.submit_GPy_5(time_gp / time_sgp)"
   ]
  },
  {
   "cell_type": "markdown",
   "metadata": {
    "colab_type": "text",
    "id": "QVG7hstSqmo0"
   },
   "source": [
    "## Bayesian optimization: GPyOpt (<a href=\"http://pythonhosted.org/GPyOpt/\">documentation</a>, <a href=\"http://nbviewer.jupyter.org/github/SheffieldML/GPyOpt/blob/master/manual/index.ipynb\">tutorials</a>)"
   ]
  },
  {
   "cell_type": "markdown",
   "metadata": {
    "colab_type": "text",
    "id": "RYlCsESVqmo1"
   },
   "source": [
    "In this part of the assignment, we will try to find optimal hyperparameters to XGBoost model! We will use data from a small competition to speed things up, but keep in mind that the approach works even for large datasets.\n",
    "\n",
    "We will use diabetes dataset provided in sklearn package."
   ]
  },
  {
   "cell_type": "code",
   "execution_count": null,
   "metadata": {
    "colab": {},
    "colab_type": "code",
    "id": "KlizKrYzqmo2"
   },
   "outputs": [],
   "source": [
    "dataset = sklearn.datasets.load_diabetes()\n",
    "X = dataset['data']\n",
    "y = dataset['target']"
   ]
  },
  {
   "cell_type": "markdown",
   "metadata": {
    "colab_type": "text",
    "id": "ekBP5cVrqmo4"
   },
   "source": [
    "We will use cross-validation score to estimate accuracy and our goal will be to tune: ```max_depth```, ```learning_rate```, ```n_estimators``` parameters. The baseline MSE with default XGBoost parameters is $0.2$. Let's see if we can do better. First, we have to define optimization function and domains."
   ]
  },
  {
   "cell_type": "code",
   "execution_count": null,
   "metadata": {
    "colab": {},
    "colab_type": "code",
    "id": "9hEIQ_YLqmo5"
   },
   "outputs": [],
   "source": [
    "# Score. Optimizer will try to find minimum, so we will add a \"-\" sign.\n",
    "def f(parameters):\n",
    "    parameters = parameters[0]\n",
    "    score = -cross_val_score(\n",
    "        XGBRegressor(learning_rate=parameters[0],\n",
    "                     max_depth=int(parameters[2]),\n",
    "                     n_estimators=int(parameters[3]),\n",
    "                     gamma=int(parameters[1]),\n",
    "                     min_child_weight = parameters[4]), \n",
    "        X, y, scoring='neg_mean_squared_error'\n",
    "    ).mean()\n",
    "    score = np.array(score)\n",
    "    return score"
   ]
  },
  {
   "cell_type": "code",
   "execution_count": null,
   "metadata": {
    "colab": {
     "base_uri": "https://localhost:8080/",
     "height": 121
    },
    "colab_type": "code",
    "id": "ah93QokHqmo8",
    "outputId": "cc1ed4cc-f66a-425b-e03e-a930cf8948bf"
   },
   "outputs": [],
   "source": [
    "baseline = -cross_val_score(\n",
    "    XGBRegressor(), X, y, scoring='neg_mean_squared_error'\n",
    ").mean()\n",
    "baseline"
   ]
  },
  {
   "cell_type": "code",
   "execution_count": null,
   "metadata": {
    "colab": {},
    "colab_type": "code",
    "id": "iX-zwFbHqmo_"
   },
   "outputs": [],
   "source": [
    "# Bounds (NOTE: define continuous variables first, then discrete!)\n",
    "bounds = [\n",
    "    {'name': 'learning_rate',\n",
    "     'type': 'continuous',\n",
    "     'domain': (0, 1)},\n",
    "\n",
    "    {'name': 'gamma',\n",
    "     'type': 'continuous',\n",
    "     'domain': (0, 5)},\n",
    "\n",
    "    {'name': 'max_depth',\n",
    "     'type': 'discrete',\n",
    "     'domain': (1, 50)},\n",
    "\n",
    "    {'name': 'n_estimators',\n",
    "     'type': 'discrete',\n",
    "     'domain': (1, 300)},\n",
    "\n",
    "    {'name': 'min_child_weight',\n",
    "     'type': 'discrete',\n",
    "     'domain': (1, 10)}\n",
    "]"
   ]
  },
  {
   "cell_type": "code",
   "execution_count": null,
   "metadata": {
    "colab": {
     "base_uri": "https://localhost:8080/",
     "height": 432
    },
    "colab_type": "code",
    "id": "p-iPvTZfqmpD",
    "outputId": "5d620e0a-c286-4a9e-daf0-64ff2302708f",
    "scrolled": false
   },
   "outputs": [],
   "source": [
    "np.random.seed(777)\n",
    "optimizer = GPyOpt.methods.BayesianOptimization(\n",
    "    f=f, domain=bounds,\n",
    "    acquisition_type ='MPI',\n",
    "    acquisition_par = 0.1,\n",
    "    exact_eval=True\n",
    ")"
   ]
  },
  {
   "cell_type": "code",
   "execution_count": null,
   "metadata": {
    "colab": {
     "base_uri": "https://localhost:8080/",
     "height": 1000
    },
    "colab_type": "code",
    "id": "wZJNGWJhqmpG",
    "outputId": "547e706d-66b8-4ff7-eb10-385a7cd140e6"
   },
   "outputs": [],
   "source": [
    "max_iter = 50\n",
    "max_time = 60\n",
    "optimizer.run_optimization(max_iter, max_time)"
   ]
  },
  {
   "cell_type": "code",
   "execution_count": null,
   "metadata": {
    "colab": {
     "base_uri": "https://localhost:8080/",
     "height": 350
    },
    "colab_type": "code",
    "id": "-r3ftdFsqmpJ",
    "outputId": "2a80eb39-47e1-4b76-9f27-ec811320d7da"
   },
   "outputs": [],
   "source": [
    "optimizer.plot_convergence()"
   ]
  },
  {
   "cell_type": "markdown",
   "metadata": {
    "colab_type": "text",
    "id": "5z9ZwoD4qmpM"
   },
   "source": [
    "Best values of parameters:"
   ]
  },
  {
   "cell_type": "code",
   "execution_count": null,
   "metadata": {
    "colab": {
     "base_uri": "https://localhost:8080/",
     "height": 52
    },
    "colab_type": "code",
    "id": "koehGewyqmpN",
    "outputId": "d36cd0c3-0f8e-42b0-819a-23d1df91706c"
   },
   "outputs": [],
   "source": [
    "optimizer.X[np.argmin(optimizer.Y)]"
   ]
  },
  {
   "cell_type": "code",
   "execution_count": null,
   "metadata": {
    "colab": {
     "base_uri": "https://localhost:8080/",
     "height": 35
    },
    "colab_type": "code",
    "id": "Jen1jqIFqmpP",
    "outputId": "f6f0e1c3-b301-4311-c5ae-5bbd9f084381"
   },
   "outputs": [],
   "source": [
    "print('MSE:', np.min(optimizer.Y),\n",
    "      'Gain:', baseline/np.min(optimizer.Y)*100)"
   ]
  },
  {
   "cell_type": "markdown",
   "metadata": {
    "colab_type": "text",
    "id": "t57zF8K3qmpT"
   },
   "source": [
    "We were able to get 9% boost without tuning parameters by hand! Let's see if you can do the same. \n",
    "\n",
    "**My gain was much higher** (!)"
   ]
  },
  {
   "cell_type": "markdown",
   "metadata": {
    "colab_type": "text",
    "id": "5Ji4tRV4qmpV"
   },
   "source": [
    "<b>Task 2.1:</b> Tune SVR model. Find optimal values for three parameters: `C`, `epsilon` and `gamma`. Use range (1e-5, 1000) for `C`, (1e-5, 10) for `epsilon` and `gamma`. Use MPI as an acquisition function with weight 0.1. Submit the optimal value of epsilon that was found by a model."
   ]
  },
  {
   "cell_type": "code",
   "execution_count": null,
   "metadata": {
    "colab": {},
    "colab_type": "code",
    "id": "h5QkBMMkqmpX"
   },
   "outputs": [],
   "source": [
    "# Same type of dictionary\n",
    "bounds = [\n",
    "  {'name': 'C', \n",
    "   'type': 'continuous', \n",
    "   'domain': (1e-5, 1000)},\n",
    "\n",
    "  {'name': 'epsilon', \n",
    "   'type': 'continuous', \n",
    "   'domain': (1e-5, 10)},\n",
    "\n",
    "  {'name': 'gamma', \n",
    "   'type': 'continuous', \n",
    "   'domain': (1e-5, 10)}\n",
    "         ]"
   ]
  },
  {
   "cell_type": "code",
   "execution_count": null,
   "metadata": {
    "colab": {},
    "colab_type": "code",
    "id": "QXIqUTNe9sO7"
   },
   "outputs": [],
   "source": [
    "def svr_tuning(parameters):\n",
    "    parameters = parameters[0]\n",
    "    score = -cross_val_score(\n",
    "                SVR(C = parameters[0], epsilon = parameters[1], gamma = parameters[2]), \n",
    "                X, y, scoring = 'neg_mean_squared_error').mean()\n",
    "    score = np.array(score)\n",
    "    return score"
   ]
  },
  {
   "cell_type": "code",
   "execution_count": null,
   "metadata": {
    "colab": {
     "base_uri": "https://localhost:8080/",
     "height": 35
    },
    "colab_type": "code",
    "id": "ZADSM27s-EvP",
    "outputId": "ece8ba34-0f0f-4230-e9c7-3037c684d5ee"
   },
   "outputs": [],
   "source": [
    "baseline = cross_val_score(SVR(), X, y, scoring='neg_mean_squared_error').mean()\n",
    "baseline"
   ]
  },
  {
   "cell_type": "code",
   "execution_count": null,
   "metadata": {
    "colab": {},
    "colab_type": "code",
    "id": "WdqwKDhY-aaz"
   },
   "outputs": [],
   "source": [
    "optimizer = GPyOpt.methods.BayesianOptimization(f = svr_tuning, \n",
    "                                                domain=bounds,\n",
    "                                                acquisition_type ='MPI',\n",
    "                                                acquisition_par = 0.1,\n",
    "                                                exact_eval = True)\n",
    "\n",
    "optimizer.run_optimization(max_iter, max_time)"
   ]
  },
  {
   "cell_type": "code",
   "execution_count": null,
   "metadata": {
    "colab": {
     "base_uri": "https://localhost:8080/",
     "height": 35
    },
    "colab_type": "code",
    "id": "Kt7YCvwp_SF2",
    "outputId": "beb8e023-6535-41ea-ca76-9dd154bb33b9"
   },
   "outputs": [],
   "source": [
    "best_params = optimizer.X[np.argmin(optimizer.Y)]\n",
    "best_params"
   ]
  },
  {
   "cell_type": "code",
   "execution_count": null,
   "metadata": {
    "colab": {
     "base_uri": "https://localhost:8080/",
     "height": 35
    },
    "colab_type": "code",
    "id": "cPGvKSBa9fLj",
    "outputId": "ac0ddd40-ff22-4688-a682-40a1ae80b57c"
   },
   "outputs": [],
   "source": [
    "best_epsilon = best_params[1]\n",
    "grader.submit_GPyOpt_1(best_epsilon)"
   ]
  },
  {
   "cell_type": "markdown",
   "metadata": {
    "colab_type": "text",
    "id": "90Hnh4U8qmpZ"
   },
   "source": [
    "<b>Task 2.2:</b> For the model above submit boost in improvement that you got after tuning hyperparameters (output percents) [e.g. if baseline MSE was 40 and you got 20, output number 200]"
   ]
  },
  {
   "cell_type": "code",
   "execution_count": null,
   "metadata": {
    "colab": {
     "base_uri": "https://localhost:8080/",
     "height": 52
    },
    "colab_type": "code",
    "id": "7oB1zDcbqmpa",
    "outputId": "f64edd5f-519d-4105-a96d-aa74f332edb7"
   },
   "outputs": [],
   "source": [
    "print('MSE:', np.min(optimizer.Y),\n",
    "      'Gain:', -baseline/np.min(optimizer.Y))\n",
    "\n",
    "performance_boost = -baseline/np.min(optimizer.Y)\n",
    "grader.submit_GPyOpt_2(performance_boost * 100)"
   ]
  },
  {
   "cell_type": "markdown",
   "metadata": {
    "colab_type": "text",
    "id": "4VEYfjGcqmpd"
   },
   "source": [
    "# Authorization & Submission\n",
    "To submit assignment parts to Cousera platform, please, enter your e-mail and token into variables below. You can generate a token on this programming assignment's page. <b>Note:</b> The token expires 30 minutes after generation."
   ]
  },
  {
   "cell_type": "code",
   "execution_count": null,
   "metadata": {
    "colab": {
     "base_uri": "https://localhost:8080/",
     "height": 190
    },
    "colab_type": "code",
    "id": "Ckn2hQHRqmpe",
    "outputId": "c608c5d5-76ea-49fb-ab8e-38d26aa4affc"
   },
   "outputs": [],
   "source": [
    "STUDENT_EMAIL = ''\n",
    "STUDENT_TOKEN = ''\n",
    "grader.status()"
   ]
  },
  {
   "cell_type": "markdown",
   "metadata": {
    "colab_type": "text",
    "id": "3p2H5DZmqmpg"
   },
   "source": [
    "If you want to submit these answers, run cell below"
   ]
  },
  {
   "cell_type": "code",
   "execution_count": null,
   "metadata": {
    "colab": {
     "base_uri": "https://localhost:8080/",
     "height": 35
    },
    "colab_type": "code",
    "id": "HwsjEDBTqmpg",
    "outputId": "bc1e65a0-c38c-418f-925c-a9c5aca5c806"
   },
   "outputs": [],
   "source": [
    "grader.submit(STUDENT_EMAIL, STUDENT_TOKEN)"
   ]
  }
 ],
 "metadata": {
  "colab": {
   "collapsed_sections": [],
   "name": "gp_assignment.ipynb",
   "provenance": []
  },
  "kernelspec": {
   "display_name": "Python 3",
   "language": "python",
   "name": "python3"
  },
  "language_info": {
   "codemirror_mode": {
    "name": "ipython",
    "version": 3
   },
   "file_extension": ".py",
   "mimetype": "text/x-python",
   "name": "python",
   "nbconvert_exporter": "python",
   "pygments_lexer": "ipython3",
   "version": "3.7.2"
  },
  "latex_envs": {
   "bibliofile": "biblio.bib",
   "cite_by": "apalike",
   "current_citInitial": 1,
   "eqLabelWithNumbers": true,
   "eqNumInitial": 0
  }
 },
 "nbformat": 4,
 "nbformat_minor": 1
}
